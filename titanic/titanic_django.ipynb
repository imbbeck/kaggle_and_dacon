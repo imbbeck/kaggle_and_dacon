{
 "cells": [
  {
   "cell_type": "code",
   "execution_count": 1,
   "metadata": {},
   "outputs": [
    {
     "name": "stdout",
     "output_type": "stream",
     "text": [
      "DEAD\n"
     ]
    }
   ],
   "source": [
    "import pandas as pd\n",
    "from sklearn.tree import DecisionTreeClassifier\n",
    "import pickle\n",
    "import numpy as np\n",
    "\n",
    "train = pd.read_csv(r'data\\train.csv')\n",
    "test = pd.read_csv(r'data\\test.csv')\n",
    "target = pd.read_csv(r'data\\gender_submission.csv')\n",
    "\n",
    "test = pd.merge(test,target,on='PassengerId')\n",
    "dataset = pd.concat([train,test])\n",
    "\n",
    "dataset.drop(labels=['PassengerId','Name','Ticket', 'Fare', 'Cabin'],axis=1,inplace=True)\n",
    "dataset.dropna(inplace=True)\n",
    "\n",
    "dataset['sexint'] = dataset['Sex'].apply(lambda x : 0 if x=='male' else 1)\n",
    "dataset.drop(labels=['Sex'],axis=1,inplace=True)\n",
    "dataset = dataset.rename(columns={'sexint':'Sex'})\n",
    "dataset['Embarkedint'] = dataset['Embarked'].apply(lambda x : 1 if x=='S' else 2 if x=='C' else 3)\n",
    "dataset.drop(labels=['Embarked'],axis=1,inplace=True)\n",
    "dataset = dataset.rename(columns={'Embarkedint':'Embarked'})\n",
    "\n",
    "X = dataset.drop(['Survived'],axis=1)\n",
    "y = dataset['Survived']\n",
    "\n",
    "model = DecisionTreeClassifier(max_depth =3)\n",
    "model.fit(X.values,y.values)\n",
    "pd.to_pickle(model,'model.pickle')\n",
    "\n",
    "Pclass = int(input(\"Pclass(1/2/3): \"))\n",
    "Age = int(input(\"Age: \"))\n",
    "SibSp = int(input(\"SibSp: \"))\n",
    "Parch = int(input(\"Parch: \"))\n",
    "Sex = int(input(\"Sex(male=0/female=1): \"))\n",
    "Embarked = int(input(\"Embarked(S=1,C=2,Q=3): \"))\n",
    "\n",
    "model = pd.read_pickle('model.pickle') \n",
    "prediction= model.predict([[Pclass,Age,SibSp,Parch,Sex,Embarked]])\n",
    "print('DEAD' if prediction==0 else 'ALIVE')"
   ]
  },
  {
   "cell_type": "code",
   "execution_count": 17,
   "metadata": {},
   "outputs": [
    {
     "data": {
      "text/plain": [
       "'DEAD'"
      ]
     },
     "execution_count": 17,
     "metadata": {},
     "output_type": "execute_result"
    }
   ],
   "source": [
    "prediction = model.predict([[1,\t22.0,\t1,\t1,\t0,\t1]])\n",
    "deadoralive = 'DEAD' if prediction==0 else 'ALIVE'\n",
    "deadoralive"
   ]
  },
  {
   "cell_type": "code",
   "execution_count": 18,
   "metadata": {},
   "outputs": [
    {
     "data": {
      "text/plain": [
       "'ALIVE'"
      ]
     },
     "execution_count": 18,
     "metadata": {},
     "output_type": "execute_result"
    }
   ],
   "source": [
    "prediction = model.predict([[3,\t22.0,\t1,\t1,\t1,\t1]])\n",
    "deadoralive = 'DEAD' if prediction==0 else 'ALIVE'\n",
    "deadoralive"
   ]
  }
 ],
 "metadata": {
  "kernelspec": {
   "display_name": "base",
   "language": "python",
   "name": "python3"
  },
  "language_info": {
   "codemirror_mode": {
    "name": "ipython",
    "version": 3
   },
   "file_extension": ".py",
   "mimetype": "text/x-python",
   "name": "python",
   "nbconvert_exporter": "python",
   "pygments_lexer": "ipython3",
   "version": "3.9.12"
  },
  "orig_nbformat": 4,
  "vscode": {
   "interpreter": {
    "hash": "e4cce46d6be9934fbd27f9ca0432556941ea5bdf741d4f4d64c6cd7f8dfa8fba"
   }
  }
 },
 "nbformat": 4,
 "nbformat_minor": 2
}
