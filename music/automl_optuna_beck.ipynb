{
 "cells": [
  {
   "cell_type": "code",
   "execution_count": 16,
   "metadata": {},
   "outputs": [
    {
     "data": {
      "text/plain": [
       "\" # Warning 제거\\nimport warnings\\nwarnings.simplefilter(action='ignore', category=FutureWarning) \\nwarnings.simplefilter(action='ignore', category=UserWarning)  \\npd.set_option('mode.chained_assignment',  None)   \\n#pd.set_option('mode.chained_assignment', 'warn') \""
      ]
     },
     "execution_count": 16,
     "metadata": {},
     "output_type": "execute_result"
    }
   ],
   "source": [
    "import pandas as pd\n",
    "import numpy as np\n",
    "import random\n",
    "import os\n",
    "from supervised.automl import AutoML\n",
    "\n",
    "def seed_everything(seed):\n",
    "    random.seed(seed)\n",
    "    os.environ['PYTHONHASHSEED'] = str(seed)\n",
    "    np.random.seed(seed)\n",
    "seed_everything(42) # Seed 고정\n",
    "\n",
    "train = pd.read_csv(r'data\\train.csv')\n",
    "test = pd.read_csv(r'data\\test.csv')\n",
    "target = pd.read_csv(r'data\\sample_submission.csv')\n",
    "\n",
    "X = train.drop(['ID','genre'],axis=1)\n",
    "y = train['genre']\n",
    "\n",
    "model = AutoML(mode=\"Optuna\",ml_task='multiclass_classification', eval_metric='f1')\n",
    "model.fit(X, y)\n",
    "\n",
    "pred = model.predict(test.drop(['ID'],axis=1))\n",
    "target['genre']=pred\n",
    "target.to_csv('pred.csv', index=False)\n",
    "target"
   ]
  }
 ],
 "metadata": {
  "kernelspec": {
   "display_name": "base",
   "language": "python",
   "name": "python3"
  },
  "language_info": {
   "codemirror_mode": {
    "name": "ipython",
    "version": 3
   },
   "file_extension": ".py",
   "mimetype": "text/x-python",
   "name": "python",
   "nbconvert_exporter": "python",
   "pygments_lexer": "ipython3",
   "version": "3.9.12 (main, Apr  4 2022, 05:22:27) [MSC v.1916 64 bit (AMD64)]"
  },
  "orig_nbformat": 4,
  "vscode": {
   "interpreter": {
    "hash": "e4cce46d6be9934fbd27f9ca0432556941ea5bdf741d4f4d64c6cd7f8dfa8fba"
   }
  }
 },
 "nbformat": 4,
 "nbformat_minor": 2
}
